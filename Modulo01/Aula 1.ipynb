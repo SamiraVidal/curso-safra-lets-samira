{
 "cells": [
  {
   "cell_type": "markdown",
   "id": "810c708f",
   "metadata": {},
   "source": [
    "## 🎯 Exercícios 🎯 <a class=\"anchor\" id=\"cinco\"></a>\n",
    "\n",
    "**1)** Faça um Programa que mostre a mensagem \"Alo mundo\" na tela."
   ]
  },
  {
   "cell_type": "code",
   "execution_count": 1,
   "id": "49920422",
   "metadata": {},
   "outputs": [
    {
     "name": "stdout",
     "output_type": "stream",
     "text": [
      "Olá mundo\n"
     ]
    }
   ],
   "source": [
    "print(\"Olá mundo\")"
   ]
  },
  {
   "cell_type": "markdown",
   "id": "b15d486e",
   "metadata": {},
   "source": [
    "**2)** Faça um Programa que peça as 4 notas bimestrais e mostre a média."
   ]
  },
  {
   "cell_type": "code",
   "execution_count": 5,
   "id": "bf6ad939",
   "metadata": {},
   "outputs": [
    {
     "name": "stdout",
     "output_type": "stream",
     "text": [
      "Digite a nota do 1° bimestre: 6\n",
      "Digite a nota do 2° bimestre: 9\n",
      "Digite a nota do 3° bimestre: 3\n",
      "Digite a nota do 4° bimestre: 9\n",
      "\n",
      "A sua média final foi de: 6.75.\n"
     ]
    }
   ],
   "source": [
    "nota1 = float(input('Digite a nota do 1° bimestre: '))\n",
    "nota2 = float(input('Digite a nota do 2° bimestre: '))\n",
    "nota3 = float(input('Digite a nota do 3° bimestre: '))\n",
    "nota4 = float(input('Digite a nota do 4° bimestre: '))\n",
    "media = (nota1 + nota2 + nota3 + nota4) / 4\n",
    "\n",
    "print(f'\\nA sua média final foi de: {media}.')\n",
    "\n"
   ]
  },
  {
   "cell_type": "markdown",
   "id": "7d3b0513",
   "metadata": {},
   "source": [
    "**3)** Faça um Programa que pergunte quanto você ganha por hora e o número de horas trabalhadas no mês. Calcule e mostre o total do seu salário no referido mês."
   ]
  },
  {
   "cell_type": "code",
   "execution_count": 14,
   "id": "a5aada50",
   "metadata": {},
   "outputs": [
    {
     "name": "stdout",
     "output_type": "stream",
     "text": [
      "Digite quanto você ganha por hora: R$ 18\n",
      "Informe a quantidade de horas trabalhadas no mês: 220\n",
      "\n",
      "Você receberá R$ 3960.0 referente a 220 horas trabalhadas no mês.\n"
     ]
    }
   ],
   "source": [
    "salario_hora = float(input('Digite quanto você ganha por hora: R$ '))\n",
    "horas_trabalhadas = float(input('Informe a quantidade de horas trabalhadas no mês: '))\n",
    "salario = salario_hora * horas_trabalhadas\n",
    "\n",
    "print(f'\\nVocê receberá R$ {salario} referente a {horas_trabalhadas:.0f} horas trabalhadas no mês.')"
   ]
  },
  {
   "cell_type": "markdown",
   "id": "c3f48009",
   "metadata": {},
   "source": [
    "**4)** Faça um Programa que peça a temperatura em graus Fahrenheit, transforme e mostre a temperatura em graus Celsius.<br>\n",
    "\n",
    "$$ C = \\frac{5 * (F-32)}{9} $$"
   ]
  },
  {
   "cell_type": "code",
   "execution_count": 18,
   "id": "14d158c6",
   "metadata": {},
   "outputs": [
    {
     "name": "stdout",
     "output_type": "stream",
     "text": [
      "Digite a temperatura em Fahrenheit: 32\n",
      "\n",
      "Você informou 32°F que equivalem a 0°C.\n"
     ]
    }
   ],
   "source": [
    "f_temperatura = float(input('Digite a temperatura em Fahrenheit: '))\n",
    "c_temperatura = (5 * (f_temperatura - 32)) / 9\n",
    "\n",
    "print(f'\\nVocê informou {f_temperatura:.0f}°F que equivalem a {c_temperatura:.0f}°C.')"
   ]
  },
  {
   "cell_type": "markdown",
   "id": "da6d5a4f",
   "metadata": {},
   "source": [
    "**5)** Faça um Programa que pergunte quanto você ganha por hora e o número de horas trabalhadas no mês. Calcule e mostre o total do seu salário no referido mês, sabendo-se que são descontados 11% para o Imposto de Renda, 8% para o INSS e 5% para o sindicato, faça um programa que nos dê:\n",
    "- Salário bruto.\n",
    "- Quanto pagou ao INSS.\n",
    "- Quanto pagou ao sindicato.\n",
    "- O salário líquido."
   ]
  },
  {
   "cell_type": "code",
   "execution_count": 26,
   "id": "de2097ce",
   "metadata": {},
   "outputs": [
    {
     "name": "stdout",
     "output_type": "stream",
     "text": [
      "Digite quanto você ganha por hora: R$ 18\n",
      "Informe a quantidade de horas trabalhadas no mês: 210\n",
      "\n",
      "Salário bruto = R$3780.0\n",
      "INSS = R$435.6\n",
      "Imposto de Renda = R$316.8\n",
      "Sindicato = R$198.0\n",
      "Sário Líquido = R$2829.6\n"
     ]
    }
   ],
   "source": [
    "salario_hora = float(input('Digite quanto você ganha por hora: R$ '))\n",
    "horas_trabalhadas = float(input('Informe a quantidade de horas trabalhadas no mês: '))\n",
    "salario_bruto = salario_hora * horas_trabalhadas\n",
    "inss = salario * 0.11\n",
    "imposto_renda = salario * 0.08\n",
    "sindicato = salario * 0.05\n",
    "salario_liquido = salario_bruto - inss - imposto_renda - sindicato\n",
    "\n",
    "print(f'''\\nSalário bruto = R${salario_bruto}\n",
    "INSS = R${inss}\n",
    "Imposto de Renda = R${imposto_renda}\n",
    "Sindicato = R${sindicato}\n",
    "Sário Líquido = R${salario_liquido}''')"
   ]
  },
  {
   "cell_type": "markdown",
   "id": "21c0173e",
   "metadata": {},
   "source": [
    "**6)** João Papo-de-Pescador, homem de bem, comprou um microcomputador para controlar o rendimento diário de seu trabalho. Toda vez que ele traz um peso de peixes maior que o estabelecido pelo regulamento de pesca do estado de São Paulo (50 quilos) deve pagar uma multa de R$ 4,00 por quilo excedente. João precisa que você faça um programa que leia a variável peso (peso de peixes) e calcule o excesso. Gravar na variável excesso a quantidade de quilos além do limite e na variável multa o valor da multa que João deverá pagar. Imprima os dados do programa com as mensagens adequadas."
   ]
  },
  {
   "cell_type": "code",
   "execution_count": 76,
   "id": "46de2af9",
   "metadata": {},
   "outputs": [
    {
     "name": "stdout",
     "output_type": "stream",
     "text": [
      "Digite o peso de peixes [Kg]: 80\n",
      "\n",
      "O peso total foi de 80.0 Kg.\n",
      "O nosso limite é de 50 Kg, excedendo em 30.0 Kg.\n",
      "Pagará um multa de R$120.0.\n"
     ]
    }
   ],
   "source": [
    "peso_peixe = float(input('Digite o peso de peixes [Kg]: '))\n",
    "limite = 50\n",
    "excesso_peso = (peso_peixe - limite) * (peso_peixe/limite > 1.001)\n",
    "valor_multa = 4\n",
    "multa_total = excesso_peso * valor_multa\n",
    "\n",
    "print(f'''\\nO peso total foi de {peso_peixe} Kg.\n",
    "O nosso limite é de {limite} Kg, excedendo em {excesso_peso} Kg.\n",
    "Pagará um multa de R${multa_total}.''')\n"
   ]
  },
  {
   "cell_type": "markdown",
   "id": "346fa741",
   "metadata": {},
   "source": [
    "**8)** Faça um Programa para uma loja de tintas. O programa deverá pedir o tamanho em metros quadrados da área a ser pintada. Considere que a cobertura da tinta é de 1 litro para cada 6 metros quadrados e que a tinta é vendida em latas de 18 litros, que custam 80,00 reais ou em galões de 3,6 litros, que custam 25,00 reais.\n",
    "  Informe ao usuário as quantidades de tinta a serem compradas e os respectivos preços em 3 situações:\n",
    "\n",
    "Comprar apenas latas de 18 litros;\n",
    "Comprar apenas galões de 3,6 litros;\n",
    "Misturar latas e galões, de forma que o desperdício de tinta seja menor. Podem considerar latas pela metade (valores decimais para quantidade de latas)"
   ]
  },
  {
   "cell_type": "code",
   "execution_count": null,
   "id": "60a26f5e",
   "metadata": {},
   "outputs": [],
   "source": []
  }
 ],
 "metadata": {
  "kernelspec": {
   "display_name": "Python 3 (ipykernel)",
   "language": "python",
   "name": "python3"
  },
  "language_info": {
   "codemirror_mode": {
    "name": "ipython",
    "version": 3
   },
   "file_extension": ".py",
   "mimetype": "text/x-python",
   "name": "python",
   "nbconvert_exporter": "python",
   "pygments_lexer": "ipython3",
   "version": "3.10.4"
  }
 },
 "nbformat": 4,
 "nbformat_minor": 5
}
