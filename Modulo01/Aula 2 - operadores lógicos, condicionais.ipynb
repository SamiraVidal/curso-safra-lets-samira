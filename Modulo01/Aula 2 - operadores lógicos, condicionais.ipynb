{
 "cells": [
  {
   "cell_type": "markdown",
   "metadata": {},
   "source": [
    "# Aula  - Operadores Lógicos e Estruturas Condicionais\n",
    "\n",
    "Na aula de hoje, vamos explorar os seguintes tópicos em Python:\n",
    "\n",
    "- 1) Operadores lógicos;\n",
    "- 2) Estruturas condicionais;\n",
    "\n",
    "_______\n",
    "\n",
    "### Objetivos\n",
    "\n",
    "Apresentar aos alunos os operadores lógicos de comparação e de conjunção, declarando a importância das operações lógicas nas estruturas condicionais e de repetição, que são apresentadas a seguir; Apresentar o conceito, uso e importâncias das estruturas condicionais em Python.\n",
    "\n",
    "### Habilidades a serem desenvolvidas\n",
    "\n",
    "Ao final da aula o aluno deve:\n",
    "\n",
    "- Saber o conceito de operações lógicas e o seu resultado (True/False);\n",
    "- Saber interpretar e utilizar os operadores de comparação;\n",
    "- Saber interpretar e uitlizar os operadores de conjunção;\n",
    "- Saber formular expressões lógicas;"
   ]
  },
  {
   "cell_type": "markdown",
   "metadata": {},
   "source": [
    "____"
   ]
  },
  {
   "cell_type": "markdown",
   "metadata": {},
   "source": [
    "## 1) Operadores lógicos\n",
    "\n",
    "Em muitos problemas de programação, há necessidade de se fazer **comparações** entre variáveis.\n",
    "\n",
    "Por exemplo:\n",
    "\n",
    "- checar se um número é maior que outro;\n",
    "- checar se uma variável é igual a outra;\n",
    "- checar se há números diferentes; etc.\n",
    "\n",
    "Para fazer essas comparações, utilizamos os **operadores lógicos de comparação**. Em Python, há 6 desses operadores:\n",
    "\n",
    "- Maior que: >\n",
    "- Maior ou igual: >=\n",
    "- Menor que: <\n",
    "- Menor ou igual: <=\n",
    "- Igual: ==\n",
    "- Diferente: !=\n",
    "\n",
    "O resultado de uma comparação sempre vai ser um booleano, isto é, **True** ou **False**!\n",
    "\n",
    "Dica: sempre leia as comparações como uma **pergunta**\n",
    "\n",
    "- Ex: \"numero < 100\", leia: \"o valor na variável numero é menor que 100?\"\n",
    "\n",
    "Os operadores de comparação são destacados em **roxo** no Jupyter"
   ]
  },
  {
   "cell_type": "code",
   "execution_count": 1,
   "metadata": {},
   "outputs": [
    {
     "data": {
      "text/plain": [
       "False"
      ]
     },
     "execution_count": 1,
     "metadata": {},
     "output_type": "execute_result"
    }
   ],
   "source": [
    "100 > 100"
   ]
  },
  {
   "cell_type": "code",
   "execution_count": 3,
   "metadata": {},
   "outputs": [
    {
     "data": {
      "text/plain": [
       "True"
      ]
     },
     "execution_count": 3,
     "metadata": {},
     "output_type": "execute_result"
    }
   ],
   "source": [
    "100 >= 100"
   ]
  },
  {
   "cell_type": "code",
   "execution_count": 2,
   "metadata": {},
   "outputs": [
    {
     "data": {
      "text/plain": [
       "False"
      ]
     },
     "execution_count": 2,
     "metadata": {},
     "output_type": "execute_result"
    }
   ],
   "source": [
    "100 < 10"
   ]
  },
  {
   "cell_type": "code",
   "execution_count": 5,
   "metadata": {},
   "outputs": [
    {
     "data": {
      "text/plain": [
       "True"
      ]
     },
     "execution_count": 5,
     "metadata": {},
     "output_type": "execute_result"
    }
   ],
   "source": [
    "10 != 11"
   ]
  },
  {
   "cell_type": "markdown",
   "metadata": {},
   "source": [
    "A comparação pode ser feita entre duas variáveis, também:"
   ]
  },
  {
   "cell_type": "code",
   "execution_count": 6,
   "metadata": {},
   "outputs": [
    {
     "data": {
      "text/plain": [
       "True"
      ]
     },
     "execution_count": 6,
     "metadata": {},
     "output_type": "execute_result"
    }
   ],
   "source": [
    "valorA = 100\n",
    "valorB = 100\n",
    "valorA <= valorB"
   ]
  },
  {
   "cell_type": "markdown",
   "metadata": {},
   "source": [
    "Python aceita multiplar comparações de ordem na mesma expressão:"
   ]
  },
  {
   "cell_type": "code",
   "execution_count": 9,
   "metadata": {},
   "outputs": [
    {
     "data": {
      "text/plain": [
       "False"
      ]
     },
     "execution_count": 9,
     "metadata": {},
     "output_type": "execute_result"
    }
   ],
   "source": [
    "n = 9\n",
    "10 < n <= 1000"
   ]
  },
  {
   "cell_type": "markdown",
   "metadata": {},
   "source": [
    "Podemos também comparar strings!"
   ]
  },
  {
   "cell_type": "code",
   "execution_count": 19,
   "metadata": {},
   "outputs": [
    {
     "data": {
      "text/plain": [
       "True"
      ]
     },
     "execution_count": 19,
     "metadata": {},
     "output_type": "execute_result"
    }
   ],
   "source": [
    "\"olá mundo\" == \"olá mundo\""
   ]
  },
  {
   "cell_type": "markdown",
   "metadata": {},
   "source": [
    "Os operadores >, >=, <, <= atuam comparando **ordem alfabética** quando aplicados a strings."
   ]
  },
  {
   "cell_type": "code",
   "execution_count": 16,
   "metadata": {},
   "outputs": [
    {
     "data": {
      "text/plain": [
       "False"
      ]
     },
     "execution_count": 16,
     "metadata": {},
     "output_type": "execute_result"
    }
   ],
   "source": [
    "\"abacaxi\" < \"Banana\""
   ]
  },
  {
   "cell_type": "markdown",
   "metadata": {},
   "source": [
    "Podemos fazer comparação entre **tipos numéricos** diferentes (int e float):"
   ]
  },
  {
   "cell_type": "code",
   "execution_count": 20,
   "metadata": {},
   "outputs": [
    {
     "data": {
      "text/plain": [
       "False"
      ]
     },
     "execution_count": 20,
     "metadata": {},
     "output_type": "execute_result"
    }
   ],
   "source": [
    "valorA = 3\n",
    "valorB = -3.14\n",
    "\n",
    "valorA < valorB"
   ]
  },
  {
   "cell_type": "markdown",
   "metadata": {},
   "source": [
    "Mas comparações entre string e tipos numéricos são possíveis **apenas para == e !=**:\n"
   ]
  },
  {
   "cell_type": "code",
   "execution_count": 22,
   "metadata": {},
   "outputs": [
    {
     "data": {
      "text/plain": [
       "True"
      ]
     },
     "execution_count": 22,
     "metadata": {},
     "output_type": "execute_result"
    }
   ],
   "source": [
    "int(\"1\") == 1"
   ]
  },
  {
   "cell_type": "code",
   "execution_count": 23,
   "metadata": {},
   "outputs": [
    {
     "data": {
      "text/plain": [
       "True"
      ]
     },
     "execution_count": 23,
     "metadata": {},
     "output_type": "execute_result"
    }
   ],
   "source": [
    "\"1\" == str(1)"
   ]
  },
  {
   "cell_type": "code",
   "execution_count": 24,
   "metadata": {},
   "outputs": [
    {
     "data": {
      "text/plain": [
       "True"
      ]
     },
     "execution_count": 24,
     "metadata": {},
     "output_type": "execute_result"
    }
   ],
   "source": [
    "\"2\" != str(1)"
   ]
  },
  {
   "cell_type": "code",
   "execution_count": 29,
   "metadata": {},
   "outputs": [
    {
     "data": {
      "text/plain": [
       "False"
      ]
     },
     "execution_count": 29,
     "metadata": {},
     "output_type": "execute_result"
    }
   ],
   "source": [
    "\"1\" == 1"
   ]
  },
  {
   "cell_type": "markdown",
   "metadata": {},
   "source": [
    "___"
   ]
  },
  {
   "cell_type": "markdown",
   "metadata": {},
   "source": [
    "Além dos operadores lógicos de comparação, também temos os **operadores lógicos de conjunção**, que são utilizados pra fazer uma **combinação** entre comparações. \n",
    "\n",
    "Os operadores de conjunção são: **and** e **or**, e eles seguem a seguinte regra:\n",
    "\n",
    "- **and** só é True se **ambas** as comparações forem True:\n",
    "    - False and True resulta em \"False\"\n",
    "    - False and False resulta em \"False\"\n",
    "    - True and True resulta em \"True\"\n",
    "- **or** é True se **pelo menos uma** das comparações for True:\n",
    "    - False or True resulta em \"True\"\n",
    "    - True or True resulta em \"True\"\n",
    "    - False or False resulta em \"False\"\n",
    "\n",
    "Os operadores de conjunção são destacados em **verde escuro** no Jupyter"
   ]
  },
  {
   "cell_type": "code",
   "execution_count": 30,
   "metadata": {},
   "outputs": [
    {
     "name": "stdout",
     "output_type": "stream",
     "text": [
      "Operador and:\n",
      "False\n",
      "False\n",
      "False\n",
      "True\n"
     ]
    }
   ],
   "source": [
    "print(\"Operador and:\")\n",
    "print(False and False)\n",
    "print(True and False)\n",
    "print(False and True)\n",
    "print(True and True)"
   ]
  },
  {
   "cell_type": "code",
   "execution_count": 31,
   "metadata": {},
   "outputs": [
    {
     "data": {
      "text/plain": [
       "True"
      ]
     },
     "execution_count": 31,
     "metadata": {},
     "output_type": "execute_result"
    }
   ],
   "source": [
    "10 < 50 and 5 == 5\n",
    "# True and True"
   ]
  },
  {
   "cell_type": "code",
   "execution_count": 32,
   "metadata": {},
   "outputs": [
    {
     "name": "stdout",
     "output_type": "stream",
     "text": [
      "Operador or:\n",
      "False\n",
      "True\n",
      "True\n",
      "True\n"
     ]
    }
   ],
   "source": [
    "print(\"Operador or:\")\n",
    "print(False or False)\n",
    "print(False or True)\n",
    "print(True or False)\n",
    "print(True or True)"
   ]
  },
  {
   "cell_type": "code",
   "execution_count": 37,
   "metadata": {},
   "outputs": [
    {
     "data": {
      "text/plain": [
       "True"
      ]
     },
     "execution_count": 37,
     "metadata": {},
     "output_type": "execute_result"
    }
   ],
   "source": [
    "\"Brian\" == \"Brian\" or 100 >= 10\n",
    "#True or True"
   ]
  },
  {
   "cell_type": "markdown",
   "metadata": {},
   "source": [
    "Se tivermos mais de duas comparações pra fazer conjunção, é melhor usarmos parênteses.\n",
    "\n",
    "Primeiro a conjunção entre parênteses é feita, e depois o resultado é usado pra avaliar a conjunção total"
   ]
  },
  {
   "cell_type": "code",
   "execution_count": 39,
   "metadata": {},
   "outputs": [
    {
     "data": {
      "text/plain": [
       "True"
      ]
     },
     "execution_count": 39,
     "metadata": {},
     "output_type": "execute_result"
    }
   ],
   "source": [
    "3 < 10 and (\"Caio\" == \"Caio \" or 50 >= 50)"
   ]
  },
  {
   "cell_type": "code",
   "execution_count": null,
   "metadata": {},
   "outputs": [],
   "source": [
    "3 < 10 and (False or True)"
   ]
  },
  {
   "cell_type": "code",
   "execution_count": null,
   "metadata": {},
   "outputs": [],
   "source": [
    "3 < 10 and True"
   ]
  },
  {
   "cell_type": "code",
   "execution_count": null,
   "metadata": {},
   "outputs": [],
   "source": [
    "True and True"
   ]
  },
  {
   "cell_type": "code",
   "execution_count": null,
   "metadata": {},
   "outputs": [],
   "source": [
    "True"
   ]
  },
  {
   "cell_type": "markdown",
   "metadata": {},
   "source": [
    "# Condicionais (If)\n",
    "O condicional If tem a seguinte estrutura"
   ]
  },
  {
   "cell_type": "code",
   "execution_count": null,
   "metadata": {},
   "outputs": [],
   "source": [
    "if condicao:\n",
    "    # código a ser executado se a condição for satisfeita"
   ]
  },
  {
   "cell_type": "markdown",
   "metadata": {},
   "source": [
    "Note que seu programa vai seguir um fluxo linha a linha e na condicional haverá um possível **desvio de fluxo**, isto é, caso a condição não seja satisfeita o código pula tudo que esta dentro do if, e o que está dentro do if? Tudo aquilo que está na **identação** do if, ou seja, está um _tab_ mais a frente que o if."
   ]
  },
  {
   "cell_type": "code",
   "execution_count": 42,
   "metadata": {},
   "outputs": [
    {
     "name": "stdout",
     "output_type": "stream",
     "text": [
      "Digite o valor de \"a\": 5\n",
      "Digite o valor de 'b': 5\n",
      "Fim\n"
     ]
    }
   ],
   "source": [
    "a = int(input('Digite o valor de \"a\": '))\n",
    "b = int(input(\"Digite o valor de 'b': \"))\n",
    "\n",
    "if a > b:\n",
    "    print(\"'a' maior que 'b'\")\n",
    "\n",
    "print(\"Fim\")"
   ]
  },
  {
   "cell_type": "markdown",
   "metadata": {},
   "source": [
    "### Elif\n",
    "O _elif_ deve ser lido com **se não**, portanto ele será uma nova condição que será testada **caso a condição do if (ou outros elifs acima) NÃO seja satisfeita**, e sua estrutura é a seguinte:"
   ]
  },
  {
   "cell_type": "code",
   "execution_count": null,
   "metadata": {},
   "outputs": [],
   "source": [
    "if condicao:\n",
    "    # codigo caso if seja satisfeito\n",
    "elif condicaoElif:\n",
    "    # codigo caso elif satisfeito\n",
    "elif condicaoElif2:\n",
    "    # codigo caso elif2 satisfeito\n",
    "elif condicaoElif3:\n",
    "    # codigo caso elif3 satisfeito"
   ]
  },
  {
   "cell_type": "markdown",
   "metadata": {},
   "source": [
    "Note que podemos ter de 0 a N _elifs_, e seu código seguirá uma ordem de conferir as condições uma a uma até que uma seja satisfeita, seu código executa **e todo o resto do bloco de if elif será ignorado**. Note também que caso nenhuma condição seja satisfeita nada dentro do if e elifs é executado e o código \"passa reto\"."
   ]
  },
  {
   "cell_type": "code",
   "execution_count": 46,
   "metadata": {},
   "outputs": [
    {
     "name": "stdout",
     "output_type": "stream",
     "text": [
      "Digite o valor de 'nota': -50\n",
      "Fim\n"
     ]
    }
   ],
   "source": [
    "nota = int(input(\"Digite o valor de 'nota': \"))\n",
    "\n",
    "if nota > 10:\n",
    "    print(\"'nota' maior que 10\")\n",
    "elif 7 < nota:\n",
    "    print(\"'nota' entre 7 e 10\")\n",
    "elif 3 < nota:\n",
    "    print(\"'nota' entre 3 e 7\")\n",
    "elif 0 < nota:\n",
    "    print(\"'nota' entre 0 e 3\")\n",
    "    \n",
    "print(\"Fim\")"
   ]
  },
  {
   "cell_type": "markdown",
   "metadata": {},
   "source": [
    "### Else\n",
    "\n",
    "O else deve ser lido como um **então ou caso contrário**, ele, diferente dos exemplos acima, não tem uma condiçao, ele será colocado ao fim do bloco if e será executado **quando todas as condições anteriores forem insatisfeitas**, a estrutura com else fica da seguinte maneira:"
   ]
  },
  {
   "cell_type": "code",
   "execution_count": null,
   "metadata": {},
   "outputs": [],
   "source": [
    "if condicao:\n",
    "    # codigo caso if seja satisfeito\n",
    "elif condicaoElif:\n",
    "    # codigo caso elif satisfeito\n",
    "else:\n",
    "    # codigo caso if e elif insatisfeito\n",
    "    \n",
    "if condicao:\n",
    "    # codigo caso if seja satisfeito\n",
    "else:\n",
    "    # codigo caso if insatisfeito"
   ]
  },
  {
   "cell_type": "markdown",
   "metadata": {},
   "source": [
    "Note que no contexto de _if else_ os _elifs_ são opcionais, portanto um bloco completo de _if_ pode possuir de 0 a N _elifs_ entre o _if_ e o _else_."
   ]
  },
  {
   "cell_type": "code",
   "execution_count": 51,
   "metadata": {},
   "outputs": [
    {
     "name": "stdout",
     "output_type": "stream",
     "text": [
      "Digite o valor de 'a': -50\n",
      "'a' é menor ou igual a 0\n",
      "Fim\n"
     ]
    }
   ],
   "source": [
    "a = float(input(\"Digite o valor de 'a': \"))\n",
    "\n",
    "if a > 10:\n",
    "    print(\"'a' maior que 10\")\n",
    "elif 7 < a and a <= 10:\n",
    "    print(\"'a' entre +7 e 10\")\n",
    "elif 3 < a <= 7:\n",
    "    print(\"'a' entre +3 e 7\")\n",
    "elif 0 < a <= 3:\n",
    "    print(\"'a' entre +0 e 3\")\n",
    "else:\n",
    "    print(\"'a' é menor ou igual a 0\")\n",
    "    \n",
    "print(\"Fim\")"
   ]
  },
  {
   "cell_type": "markdown",
   "metadata": {},
   "source": [
    "### Condicional Aninhada\n",
    "\n",
    "Dentro de um _if, elif ou else_ podemos ter outros blocos de _ifs_ o que chamamos de aninhamento, isto pode ser feito para facilitar leitura de código ou mesmo para validar uma segunda condição que afeitaria pouco o código da primeira, veja o exemplo:"
   ]
  },
  {
   "cell_type": "code",
   "execution_count": null,
   "metadata": {},
   "outputs": [],
   "source": [
    "nome = input(\"Digite seu nome: \")\n",
    "idade = int(input(\"Digite sua idade: \"))\n",
    "\n",
    "if idade >= 18:\n",
    "    habilitado = input(\"Você tem habilitação? (S/N): \")\n",
    "    if habilitado == \"S\":\n",
    "        print(\"Olá,\", nome, \"você tem\", idade, \"anos e pode dirigir\")\n",
    "    else:\n",
    "        print(\"Olá,\", nome, \"você tem\", idade, \"anos mas não pode dirigir\")\n",
    "else:\n",
    "    print(\"Olá,\", nome, \"você é menor de idade, por tanto não pode dirigir.\")"
   ]
  },
  {
   "cell_type": "code",
   "execution_count": 54,
   "metadata": {},
   "outputs": [
    {
     "name": "stdout",
     "output_type": "stream",
     "text": [
      "Olá Brian\n"
     ]
    }
   ],
   "source": [
    "nome = 'Brian'\n",
    "idade = 21\n",
    "\n",
    "if nome == 'Brian' and idade == 21:\n",
    "    print(\"Olá Brian\")"
   ]
  },
  {
   "cell_type": "markdown",
   "metadata": {},
   "source": [
    "### Condicional Curta (Operador ternário)\n",
    "Operadores ternários são maneiras bem enxutas de escrever condicionais simples em apenas uma linha\n",
    "#### If Curto"
   ]
  },
  {
   "cell_type": "code",
   "execution_count": 59,
   "metadata": {},
   "outputs": [
    {
     "name": "stdout",
     "output_type": "stream",
     "text": [
      "Digite um valor para 'a': 5\n"
     ]
    }
   ],
   "source": [
    "a = int(input(\"Digite um valor para 'a': \"))\n",
    "\n",
    "if a > 10: print(\"'a' maior que 10\")"
   ]
  },
  {
   "cell_type": "markdown",
   "metadata": {},
   "source": [
    "#### If Else Curto"
   ]
  },
  {
   "cell_type": "code",
   "execution_count": 62,
   "metadata": {},
   "outputs": [
    {
     "name": "stdout",
     "output_type": "stream",
     "text": [
      "Digite um valor para 'a': 8\n",
      "'a' menor ou igual a 10\n"
     ]
    }
   ],
   "source": [
    "a = int(input(\"Digite um valor para 'a': \"))\n",
    "\n",
    "if a > 10:\n",
    "    print(\"'a' maior que 10\")\n",
    "else:\n",
    "    print(\"'a' menor ou igual a 10\")"
   ]
  },
  {
   "cell_type": "code",
   "execution_count": 64,
   "metadata": {},
   "outputs": [
    {
     "name": "stdout",
     "output_type": "stream",
     "text": [
      "Digite um valor para 'a': 5\n",
      "'a' menor ou igual a 10\n"
     ]
    }
   ],
   "source": [
    "a = int(input(\"Digite um valor para 'a': \"))\n",
    "\n",
    "print(\"'a' maior que 10\") if a > 10 else print(\"'a' menor ou igual a 10\")"
   ]
  },
  {
   "cell_type": "code",
   "execution_count": 69,
   "metadata": {},
   "outputs": [
    {
     "name": "stdout",
     "output_type": "stream",
     "text": [
      "Digite um valor para 'a': 5\n",
      "4\n"
     ]
    }
   ],
   "source": [
    "a = int(input(\"Digite um valor para 'a': \"))\n",
    "\n",
    "# if a > 10:\n",
    "#     y = 1\n",
    "# else:\n",
    "#     y = 4\n",
    "\n",
    "# y = a > 10 (para booleano direto)\n",
    "\n",
    "y = 1 if a > 10 else 4\n",
    "    \n",
    "print(y)"
   ]
  },
  {
   "cell_type": "markdown",
   "metadata": {},
   "source": [
    "# Inversão Lógica"
   ]
  },
  {
   "cell_type": "code",
   "execution_count": 81,
   "metadata": {},
   "outputs": [],
   "source": [
    "x = 10\n",
    "y = 100"
   ]
  },
  {
   "cell_type": "code",
   "execution_count": 71,
   "metadata": {},
   "outputs": [
    {
     "data": {
      "text/plain": [
       "True"
      ]
     },
     "execution_count": 71,
     "metadata": {},
     "output_type": "execute_result"
    }
   ],
   "source": [
    "not x < y"
   ]
  },
  {
   "cell_type": "code",
   "execution_count": 82,
   "metadata": {},
   "outputs": [
    {
     "data": {
      "text/plain": [
       "True"
      ]
     },
     "execution_count": 82,
     "metadata": {},
     "output_type": "execute_result"
    }
   ],
   "source": [
    "not (x == y and \"B\" != \"B\")"
   ]
  },
  {
   "cell_type": "code",
   "execution_count": 83,
   "metadata": {},
   "outputs": [
    {
     "data": {
      "text/plain": [
       "True"
      ]
     },
     "execution_count": 83,
     "metadata": {},
     "output_type": "execute_result"
    }
   ],
   "source": [
    "x != y or \"B\" == \"B\""
   ]
  },
  {
   "cell_type": "code",
   "execution_count": null,
   "metadata": {},
   "outputs": [],
   "source": [
    "== | !=\n",
    "< | >=\n",
    "> | <=\n",
    "\n",
    "exp1 and exp2 | not(exp1) or not(exp2)\n",
    "exp1 or exp2 | not(exp1) and not(exp2)"
   ]
  },
  {
   "cell_type": "code",
   "execution_count": 86,
   "metadata": {},
   "outputs": [
    {
     "data": {
      "text/plain": [
       "False"
      ]
     },
     "execution_count": 86,
     "metadata": {},
     "output_type": "execute_result"
    }
   ],
   "source": [
    "not(\"Caio\" == \"Caio \" or 5 <= 8)"
   ]
  },
  {
   "cell_type": "code",
   "execution_count": 87,
   "metadata": {},
   "outputs": [
    {
     "data": {
      "text/plain": [
       "False"
      ]
     },
     "execution_count": 87,
     "metadata": {},
     "output_type": "execute_result"
    }
   ],
   "source": [
    "\"Caio\" != \"Caio \" and 5 > 8"
   ]
  },
  {
   "cell_type": "markdown",
   "metadata": {},
   "source": [
    "## Exercícios"
   ]
  },
  {
   "cell_type": "markdown",
   "metadata": {},
   "source": [
    "**1)** Um posto está vendendo combustíveis com a seguinte tabela de descontos: <br>\n",
    "\n",
    "Álcool:<br>\n",
    " - até 20 litros, desconto de 3% por litro\n",
    " - acima de 20 litros, desconto de 5% por litro <br>\n",
    " \n",
    "Gasolina:<br>\n",
    " - até 20 litros, desconto de 4% por litro\n",
    " - acima de 20 litros, desconto de 6% por litro. \n",
    " \n",
    "Escreva um algoritmo que leia o número de litros vendidos, o tipo de combustível (codificado da seguinte forma: A-álcool, G-gasolina), calcule e imprima o valor a ser pago pelo cliente sabendo-se que o preço do litro da gasolina é 2,50 reais o preço do litro do álcool é 1,90 reais."
   ]
  },
  {
   "cell_type": "code",
   "execution_count": 17,
   "metadata": {},
   "outputs": [
    {
     "name": "stdout",
     "output_type": "stream",
     "text": [
      "Opção inválida.\n",
      "Você abasteceu 60.0 litros de Gasolina, o total a pagar é de R$141.0. \n"
     ]
    }
   ],
   "source": [
    "litros = float(input('Digite o total de litros: '))\n",
    "combustivel = input('Qual tipo de combustível deseja [A-Álcool, G-Gasolina]: ').upper().strip()[0]\n",
    "\n",
    "preco_alcool = 1.90\n",
    "preco_gasolina = 2.50\n",
    "preco_total = 0\n",
    "tipo_combustivel = ''\n",
    " \n",
    "if combustivel not in 'AG':\n",
    "    print('Opção inválida.')\n",
    "    combustivel = input('Qual tipo de combustível deseja [A-Álcool, G-Gasolina]: ').upper().strip()[0]\n",
    "if combustivel in 'A':\n",
    "    tipo_combustivel = 'Álcool'\n",
    "    if litros > 20:\n",
    "        preco_total = preco_alcool * litros * 0.95\n",
    "    else:\n",
    "        preco_total = preco_alcool * litros * 0.97\n",
    "    print(f'Você abasteceu {litros} litros de {tipo_combustivel}, o total a pagar é de R${preco_total}. ')\n",
    "elif combustivel in 'G':\n",
    "    tipo_combustivel = 'Gasolina'\n",
    "    if litros > 20:\n",
    "        preco_total = preco_gasolina * litros * 0.94\n",
    "    else:\n",
    "        preco_total = preco_gasolina * litros * 0.96\n",
    "    print(f'Você abasteceu {litros} litros de {tipo_combustivel}, o total a pagar é de R${preco_total}. ')           \n"
   ]
  },
  {
   "cell_type": "markdown",
   "metadata": {},
   "source": [
    "**2)** Faça um programa que faça 5 perguntas para uma pessoa sobre um crime. As perguntas são:\n",
    "\n",
    "- \"Telefonou para a vítima?\"\n",
    "- \"Esteve no local do crime?\"\n",
    "- \"Mora perto da vítima?\"\n",
    "- \"Devia para a vítima?\"\n",
    "- \"Já trabalhou com a vítima?\"\n",
    "\n",
    "O programa deve no final emitir uma classificação sobre a participação da pessoa no crime. Se a pessoa responder positivamente a 2 questões ela deve ser classificada como \"Suspeita\", entre 3 e 4 como \"Cúmplice\" e 5 como \"Assassino\". Caso contrário, ele será classificado como \"Inocente\"."
   ]
  },
  {
   "cell_type": "code",
   "execution_count": 21,
   "metadata": {},
   "outputs": [
    {
     "name": "stdout",
     "output_type": "stream",
     "text": [
      "Cúmplice!\n"
     ]
    }
   ],
   "source": [
    "p1 = input('Telefonou para a vítima ?[S/N]').upper()\n",
    "p2 = input('Esteve no local do crime ?[S/N]').upper()\n",
    "p3 = input('Mora perto da vítima ?[S/N]').upper()\n",
    "p4 = input('Devia para a vítima ?[S/N]').upper()\n",
    "p5 = input('Já trabalhou com a vítima ?[S/N]').upper()\n",
    "\n",
    "soma = 0\n",
    "\n",
    "if p1 == 'S':\n",
    "    soma = soma + 1\n",
    "if p2 == 'S':\n",
    "    soma = soma + 1   \n",
    "if p3 == 'S':\n",
    "    soma = soma + 1\n",
    "if p4 == 'S':\n",
    "    soma = soma + 1\n",
    "if p5 == 'S':\n",
    "    soma = soma + 1     \n",
    "\n",
    "if soma == 5:\n",
    "    print('Assassino!')\n",
    "elif soma == 4 or soma == 3:\n",
    "    print('Cúmplice!')\n",
    "elif soma == 2:\n",
    "    print('Suspeita!')\n",
    "else:\n",
    "    print('Inocente!')\n",
    "\n"
   ]
  },
  {
   "cell_type": "markdown",
   "metadata": {},
   "source": [
    "**3)** Faça um Programa que leia um número inteiro menor que 1000 e imprima a quantidade de centenas, dezenas e unidades do mesmo. Observando os termos no plural a colocação do \"e\", da vírgula entre outros. Exemplo:\n",
    "\n",
    "326 = 3 centenas, 2 dezenas e 6 unidades <br>\n",
    "12 = 1 dezena e 2 unidades"
   ]
  },
  {
   "cell_type": "code",
   "execution_count": 55,
   "metadata": {},
   "outputs": [
    {
     "name": "stdout",
     "output_type": "stream",
     "text": [
      "3 centenas e 1 unidade\n"
     ]
    }
   ],
   "source": [
    "numero = int(input('Digite um número de até 3 digitos: '))\n",
    "\n",
    "unidade = numero % 10\n",
    "numero = numero // 10\n",
    "\n",
    "dezena = numero % 10\n",
    "numero = numero // 10\n",
    "\n",
    "centena = numero\n",
    "\n",
    "mensagem = ''\n",
    "\n",
    "if centena > 1:\n",
    "    mensagem = mensagem + str(centena) + ' centenas'\n",
    "elif centena == 1:\n",
    "    mensagem = mensagem + str(centena) + ' centena' \n",
    "\n",
    "if dezena > 0 and unidade > 0:\n",
    "    mensagem += ', '\n",
    "\n",
    "elif dezena > 0 or unidade > 0:\n",
    "    mensagem += ' e '\n",
    "\n",
    "if dezena > 1:\n",
    "    mensagem = mensagem + str(dezena) + ' dezenas'\n",
    "elif dezena == 1:\n",
    "    mensagem = mensagem + str(dezena) + ' dezena'\n",
    "\n",
    "if dezena > 0 and  unidade > 0:\n",
    "    mensagem += ' e ' \n",
    "\n",
    "if unidade > 1:\n",
    "    mensagem = mensagem + str(unidade) + ' unidades'\n",
    "elif unidade == 1:\n",
    "    mensagem = mensagem + str(unidade) + ' unidade' \n",
    "    \n",
    "print(mensagem)"
   ]
  },
  {
   "cell_type": "markdown",
   "metadata": {},
   "source": [
    "**4)** Faça um programa que calcule as raízes de uma equação do segundo grau, na forma:\n",
    "\n",
    "$ax^{2} + bx + c$ \n",
    "\n",
    "O programa deverá pedir os valores de a, b e c, informando ao usuário nas seguintes situações:\n",
    "Se o usuário informar o valor de A igual a zero, a equação não é do segundo grau e o programa não deve fazer pedir os demais valores, sendo encerrado;\n",
    "Se o delta calculado for negativo, a equação não possui raizes reais. Informe ao usuário e encerre o programa;\n",
    "Se o delta calculado for igual a zero a equação possui apenas uma raiz real; informe-a ao usuário;\n",
    "Se o delta for positivo, a equação possui duas raiz reais; informe-as ao usuário;"
   ]
  },
  {
   "cell_type": "code",
   "execution_count": 66,
   "metadata": {},
   "outputs": [
    {
     "name": "stdout",
     "output_type": "stream",
     "text": [
      "Possuí 2 raizes reais distintas.\n",
      "x1 = -0.020080646472550968\n",
      "x2 = -4.979919353527449\n"
     ]
    }
   ],
   "source": [
    "a = float(input('Digite o termo a:'))\n",
    "\n",
    "if a == 0:\n",
    "    print('Não é equação de segundo grau.')\n",
    "else:\n",
    "    b = float(input('Digite o termo b:'))\n",
    "    c = float(input('Digite o termo c:'))\n",
    "\n",
    "    delta = b**2 - (4 * a * c)\n",
    "\n",
    "    if delta < 0:\n",
    "        print('Não possuí raizes reais')\n",
    "    elif delta == 0:\n",
    "        print('Possui 1 raiz real.')\n",
    "        x1 = -b / (2 * a)\n",
    "        print(f'x = {x1}')\n",
    "    else:\n",
    "        print('Possuí 2 raizes reais distintas.')\n",
    "        x1 = (-b + (delta**0.5)) / (2 * a)\n",
    "        x2 = (-b - (delta**0.5)) / (2 * a)\n",
    "        print(f'x1 = {x1}\\nx2 = {x2}')"
   ]
  },
  {
   "cell_type": "markdown",
   "metadata": {},
   "source": [
    "**5)** Faça um Programa para um caixa eletrônico. O programa deverá perguntar ao usuário o valor do saque e depois informar quantas notas de cada valor serão fornecidas, considerando o valor mínimo de notas possíveis. As notas disponíveis serão as de 1, 5, 10, 50 e 100 reais."
   ]
  },
  {
   "cell_type": "code",
   "execution_count": 70,
   "metadata": {},
   "outputs": [
    {
     "name": "stdout",
     "output_type": "stream",
     "text": [
      "0 notas de cem.\n",
      "0 notas de cinquenta.\n",
      "0 notas de dez.\n",
      "0 notas de cinco.\n",
      "3 notas de um.\n"
     ]
    }
   ],
   "source": [
    "saque = int(input('Digite o valor que deseja sacar: '))\n",
    "\n",
    "notas100 = saque//100\n",
    "saque = saque % 100\n",
    "\n",
    "notas50 = saque//50\n",
    "saque = saque % 50\n",
    "\n",
    "notas10 = saque//10\n",
    "saque = saque % 10\n",
    "\n",
    "notas5 = saque//5\n",
    "saque = saque % 5\n",
    "\n",
    "notas1 = saque\n",
    "\n",
    "print(notas100,'notas de cem.')\n",
    "print(notas50,'notas de cinquenta.')\n",
    "print(notas10,'notas de dez.')\n",
    "print(notas5,'notas de cinco.')\n",
    "print(notas1,'notas de um.')\n",
    "\n",
    "\n"
   ]
  },
  {
   "cell_type": "markdown",
   "metadata": {},
   "source": [
    "**6)** Faça um Programa que peça os 3 lados de um triângulo. O programa deverá informar se os valores podem ser um triângulo. Indique, caso os lados formem um triângulo, se o mesmo é: equilátero, isósceles ou escaleno.\n",
    "\n",
    "Dicas:\n",
    "- Três lados formam um triângulo quando a soma de quaisquer dois lados for maior que o terceiro;\n",
    "- Triângulo Equilátero: três lados iguais;\n",
    "- Triângulo Isósceles: quaisquer dois lados iguais;\n",
    "- Triângulo Escaleno: três lados diferentes;"
   ]
  },
  {
   "cell_type": "code",
   "execution_count": 81,
   "metadata": {},
   "outputs": [
    {
     "name": "stdout",
     "output_type": "stream",
     "text": [
      "Equilátero.\n"
     ]
    }
   ],
   "source": [
    "lado1 = float(input('Digite o lado1: '))\n",
    "lado2 = float(input('Digite o lado2: '))\n",
    "lado3 = float(input('Digite o lado3: '))\n",
    "\n",
    "if not (lado1 + lado2 > lado3 and lado1 + lado3  > lado2 and lado2 + lado3 > lado1):\n",
    "    print('Os valores não formam um triângulo')\n",
    "else:\n",
    "    if lado1 == lado2 == lado3:\n",
    "        print('Equilátero.')\n",
    "    elif lado1 == lado2 or lado1 == lado3 or lado2 == lado3:\n",
    "        print('Isósceles')\n",
    "    else:\n",
    "        print('Escaleno')"
   ]
  }
 ],
 "metadata": {
  "interpreter": {
   "hash": "8e7831d33427d29edcdff7c0f64d161481715e72ff2cb894502262465a2f3ed5"
  },
  "kernelspec": {
   "display_name": "Python 3.10.4 64-bit",
   "language": "python",
   "name": "python3"
  },
  "language_info": {
   "codemirror_mode": {
    "name": "ipython",
    "version": 3
   },
   "file_extension": ".py",
   "mimetype": "text/x-python",
   "name": "python",
   "nbconvert_exporter": "python",
   "pygments_lexer": "ipython3",
   "version": "3.10.4"
  }
 },
 "nbformat": 4,
 "nbformat_minor": 4
}
